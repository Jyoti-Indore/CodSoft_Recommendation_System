{
  "nbformat": 4,
  "nbformat_minor": 0,
  "metadata": {
    "colab": {
      "provenance": []
    },
    "kernelspec": {
      "name": "python3",
      "display_name": "Python 3"
    },
    "language_info": {
      "name": "python"
    }
  },
  "cells": [
    {
      "cell_type": "code",
      "execution_count": 3,
      "metadata": {
        "colab": {
          "base_uri": "https://localhost:8080/"
        },
        "id": "lVGVvPaRhtjG",
        "outputId": "f0e914ad-aa80-445f-c7a8-5e51b479daaf"
      },
      "outputs": [
        {
          "output_type": "stream",
          "name": "stdout",
          "text": [
            "Enter a movie title: Interstellar\n",
            "\n",
            "Because you liked: Interstellar\n",
            "You might also like:\n",
            "0         The Matrix\n",
            "1          Inception\n",
            "3    The Dark Knight\n",
            "Name: title, dtype: object\n"
          ]
        }
      ],
      "source": [
        "import pandas as pd\n",
        "from sklearn.feature_extraction.text import TfidfVectorizer\n",
        "from sklearn.metrics.pairwise import linear_kernel\n",
        "\n",
        "# Sample movie dataset\n",
        "data = {\n",
        "    'title': [\n",
        "        'The Matrix', 'Inception', 'Interstellar',\n",
        "        'The Dark Knight', 'Pulp Fiction',\n",
        "        'The Lord of the Rings', 'Avengers: Endgame', 'The Social Network'\n",
        "    ],\n",
        "    'description': [\n",
        "        'A hacker discovers reality is a simulation',\n",
        "        'A thief enters dreams to steal secrets',\n",
        "        'Astronauts travel through a wormhole in space',\n",
        "        'A vigilante fights crime in Gotham City',\n",
        "        'Stories of crime and redemption in LA',\n",
        "        'A quest to destroy a powerful ring',\n",
        "        'Superheroes unite to battle a galactic enemy',\n",
        "        'Rise of Facebook and tech rivalry'\n",
        "    ]\n",
        "}\n",
        "\n",
        "df = pd.DataFrame(data)\n",
        "\n",
        "# Vectorize the descriptions\n",
        "tfidf = TfidfVectorizer(stop_words='english')\n",
        "tfidf_matrix = tfidf.fit_transform(df['description'])\n",
        "\n",
        "# Compute cosine similarity\n",
        "cosine_sim = linear_kernel(tfidf_matrix, tfidf_matrix)\n",
        "\n",
        "# Function to get recommendations\n",
        "def recommend(title, cosine_sim=cosine_sim):\n",
        "    idx = df[df['title'] == title].index[0]\n",
        "    sim_scores = list(enumerate(cosine_sim[idx]))\n",
        "    sim_scores = sorted(sim_scores, key=lambda x: x[1], reverse=True)\n",
        "    sim_scores = sim_scores[1:4]  # Top 3 recommendations\n",
        "    movie_indices = [i[0] for i in sim_scores]\n",
        "    return df['title'].iloc[movie_indices]\n",
        "\n",
        "# Example usage\n",
        "movie = input(\"Enter a movie title: \")\n",
        "if movie in df['title'].values:\n",
        "    print(\"\\nBecause you liked:\", movie)\n",
        "    print(\"You might also like:\")\n",
        "    print(recommend(movie))\n",
        "else:\n",
        "    print(\"Sorry, movie not found in the dataset.\")\n"
      ]
    }
  ]
}